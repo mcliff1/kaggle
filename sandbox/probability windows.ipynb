{
 "cells": [
  {
   "cell_type": "markdown",
   "metadata": {},
   "source": [
    "# Future prediction windows\n",
    "\n",
    "Some plots with future forecast based on mean and volatility"
   ]
  },
  {
   "cell_type": "code",
   "execution_count": null,
   "metadata": {},
   "outputs": [],
   "source": [
    "from datetime import datetime\n",
    "from datetime import timedelta\n",
    "\n",
    "from statsmodels.distributions.empirical_distribution import ECDF\n",
    "import matplotlib.pyplot as plt\n",
    "import numpy as np\n",
    "import pandas as pd\n",
    "from scipy.stats import norm\n",
    "from matplotlib.ticker import FuncFormatter\n",
    "\n",
    "import warnings\n",
    "warnings.filterwarnings('ignore', category=UserWarning, message='Solution may be inaccurate')\n",
    "\n"
   ]
  },
  {
   "cell_type": "code",
   "execution_count": null,
   "metadata": {},
   "outputs": [],
   "source": [
    "\n",
    "def calculate_confidence_interval(annual_return_, volatility_, p, years):\n",
    "    \"\"\"\n",
    "    Calculate confidence intervals for an investment's future value.\n",
    "\n",
    "    Parameters:\n",
    "        annual_return (float): The annual return (e.g., 0.087 for 8.7%).\n",
    "        volatility (float): The annual volatility (e.g., 0.092 for 9.2%).\n",
    "        p (float): The confidence level as a decimal (e.g., 0.95 for 95%).\n",
    "        years (int or float): The investment time horizon in years.\n",
    "\n",
    "    Returns:\n",
    "        tuple: A tuple with the lower and upper bounds of the confidence interval.\n",
    "    \"\"\"\n",
    "    # Drift and standard deviation for log returns\n",
    "    drift = (annual_return_ - 0.5 * volatility_**2) * years\n",
    "    std_dev = volatility_ * np.sqrt(years)\n",
    "\n",
    "    # Z-score for the desired confidence interval\n",
    "    z = norm.ppf((1 + p) / 2)\n",
    "\n",
    "    # Log range for the confidence interval\n",
    "    log_lower = drift - z * std_dev\n",
    "    log_upper = drift + z * std_dev\n",
    "\n",
    "    # Convert log range back to the original scale\n",
    "    lower_bound = np.exp(log_lower)\n",
    "    upper_bound = np.exp(log_upper)\n",
    "\n",
    "    return lower_bound, upper_bound\n",
    "\n",
    "# Calculate for 95% confidence interval\n",
    "p95 = calculate_confidence_interval(annual_return, volatility, 0.95, 3)\n",
    "print(f\"95% Confidence Interval: {p95}\")\n",
    "\n",
    "# Calculate for 99% confidence interval\n",
    "p99 = calculate_confidence_interval(annual_return, volatility, 0.99, 3)\n",
    "print(f\"99% Confidence Interval: {p99}\")\n",
    "\n",
    "# Calculate for 50% confidence interval\n",
    "p50 = calculate_confidence_interval(annual_return, volatility, 0.50, 3)\n",
    "print(f\"50% Confidence Interval: {p50}\")\n"
   ]
  },
  {
   "cell_type": "code",
   "execution_count": null,
   "metadata": {
    "vscode": {
     "languageId": "plaintext"
    }
   },
   "outputs": [],
   "source": [
    "sandbox/Brownian Walk.ipynb"
   ]
  },
  {
   "cell_type": "markdown",
   "metadata": {},
   "source": []
  }
 ],
 "metadata": {
  "language_info": {
   "name": "python"
  }
 },
 "nbformat": 4,
 "nbformat_minor": 2
}
